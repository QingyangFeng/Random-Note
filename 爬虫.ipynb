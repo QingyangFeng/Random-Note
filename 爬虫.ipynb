{
 "cells": [
  {
   "cell_type": "code",
   "execution_count": 9,
   "metadata": {},
   "outputs": [
    {
     "data": {
      "text/plain": [
       "('Nogizaka46_7th.jpg', <http.client.HTTPMessage at 0x10ff1d2b0>)"
      ]
     },
     "execution_count": 9,
     "metadata": {},
     "output_type": "execute_result"
    }
   ],
   "source": [
    "import re\n",
    "import urllib.request\n",
    "import urllib.parse\n",
    "\n",
    "url = \"https://book.qidian.com/info/1010399782#Catalog\"\n",
    "response = urllib.request.urlopen(url)\n",
    "\n",
    "# 获取请求的url\n",
    "# print(response.geturl())\n",
    "# 获取头部信息，列表里面有元组\n",
    "# print(dict(response.getheaders()))\n",
    "# 获取状态码\n",
    "# print(response.getcode())\n",
    "\n",
    "#urllib.request.urlretrieve(url,image_path) 下载图片\n",
    "image_url = 'https://timgsa.baidu.com/timg?image&quality=80&size=b9999_10000&sec=1547716660469&di=c357906a163e3af11d22b05d5cd5e8f9&imgtype=0&src=http%3A%2F%2Fimg3.doubanio.com%2Fimg%2Fmusician%2Flarge%2F25694.jpg'\n",
    "urllib.request.urlretrieve(image_url,'Nogizaka46_7th.jpg')\n",
    "\n",
    "#quote 编码 将中文转化为%xx\n",
    "\n",
    "#unquote 解码将%xx转化为指定字符\n",
    "\n",
    "# with open('demo.txt','w',encoding='utf-8') as fp:\n",
    "#     fp.write(response.read().decode())\n",
    "\n",
    "\n",
    "\n"
   ]
  },
  {
   "cell_type": "code",
   "execution_count": 14,
   "metadata": {},
   "outputs": [
    {
     "name": "stdout",
     "output_type": "stream",
     "text": [
      "www.baidu.com/s?ie=utf-8&wd=乃木坂46\n",
      "www.baidu.com/s%3Fie%3Dutf-8%26wd%3D%25E4%25B9%2583%25E6%259C%25A8%25E5%259D%258246\n",
      "name=demo&height=250&width=250\n"
     ]
    }
   ],
   "source": [
    "import urllib.parse\n",
    "url = 'www.baidu.com/s?ie=utf-8&wd=%E4%B9%83%E6%9C%A8%E5%9D%8246'\n",
    "#unquote 解码将%xx转化为指定字符\n",
    "re = urllib.parse.unquote(url)\n",
    "print(re)\n",
    "#quote 编码 将中文转化为%xx\n",
    "ret = urllib.parse.quote(url)\n",
    "print(ret)\n",
    "\n",
    "name='demo'\n",
    "height='250'\n",
    "width='250'\n",
    "#参数拼接url\n",
    "data = {\n",
    "    'name': name,\n",
    "    'height': height,\n",
    "    'width': width,\n",
    "}\n",
    "#将字典拼接为query_string 并实现编码的功能\n",
    "query_string = urllib.parse.urlencode(data)\n",
    "print(query_string)"
   ]
  },
  {
   "cell_type": "code",
   "execution_count": 28,
   "metadata": {},
   "outputs": [
    {
     "name": "stdout",
     "output_type": "stream",
     "text": [
      "输出您想要检索的内容：乃木坂\n",
      "http://www.baidu.com/s?ie=utf-8&wd=%E4%B9%83%E6%9C%A8%E5%9D%82\n"
     ]
    }
   ],
   "source": [
    "import urllib\n",
    "\n",
    "#Get\n",
    "\n",
    "word = input('输出您想要检索的内容：')\n",
    "url = 'http://www.baidu.com/s?'\n",
    "\n",
    "data = {\n",
    "    'ie': 'utf-8',\n",
    "    'wd': word,\n",
    "}\n",
    "\n",
    "query_string = urllib.parse.urlencode(data)\n",
    "# re = urllib.parse.unquote(query_string)\n",
    "\n",
    "url += query_string\n",
    "print (url)\n",
    "\n",
    "#发送请求\n",
    "response = urllib.request.urlopen(url)\n",
    "filename = word +'.html'\n",
    "with open (filename,'wb') as fp:\n",
    "    fp.write(response.read())"
   ]
  },
  {
   "cell_type": "code",
   "execution_count": 10,
   "metadata": {},
   "outputs": [],
   "source": [
    "#伪装成浏览器浏览网页\n",
    "#构建请求头信息\n",
    "import urllib.request\n",
    "import urllib.parse\n",
    "\n",
    "url ='http://www.baidu.com/'\n",
    "\n",
    "# response = urllib.request.urlopen(url)\n",
    "# print(response.read().decode())\n",
    "#定制头部\n",
    "headers={\n",
    "    'User-Agent': 'Mozilla/5.0 (Macintosh; Intel Mac OS X 10_13_3)AppleWebKit/537.36 (KHTML, like Gecko)Chrome/70.0.3538.102 Safari/537.36',\n",
    "    }\n",
    "\n",
    "#构建请求对象\n",
    "request = urllib.request.Request(url=url, headers=headers)\n",
    "\n",
    "#发送请求\n",
    "response = urllib.request.urlopen(request)\n"
   ]
  },
  {
   "cell_type": "code",
   "execution_count": 13,
   "metadata": {},
   "outputs": [
    {
     "name": "stdout",
     "output_type": "stream",
     "text": [
      "请输入你要查询的单词baby\n",
      "{\"errno\":0,\"data\":[{\"k\":\"baby\",\"v\":\"n. \\u5a74\\u513f; \\u5a74\\u5b69; \\u5e7c\\u5d3d; \\u5b9d\\u8d1d\\u513f; vt. \\u628a\\u2026\\u5f53\\u4f5c\\u5a74\\u5b69\\u770b\\u5f85\\uff0c\\u5a07\\u517b; \\u7eb5\\u5bb9; adj. \\u5b69\\u5b50\\u7684;\"},{\"k\":\"babysitter\",\"v\":\"n. \\u4e34\\u65f6\\u7167\\u987e\\u5e7c\\u513f\\u8005;\"},{\"k\":\"babysit\",\"v\":\"vi. \\u4e34\\u65f6\\u53d7\\u96c7\\u4ee3\\u5916\\u51fa\\u7684\\u7236\\u6bcd\\u7167\\u6599\\u5c0f\\u5b69;\"},{\"k\":\"babysitting\",\"v\":\"n. \\u6258\\u5a74\\u670d\\u52a1; v. \\u4e34\\u65f6\\u53d7\\u96c7\\u4ee3\\u5916\\u51fa\\u7684\\u7236\\u6bcd\\u7167\\u6599\\u5c0f\\u5b69( babysit\\u7684\\u73b0\\u5728\\u5206\\u8bcd );\"},{\"k\":\"baby sitter\",\"v\":\"n. <\\u7f8e>\\u4ee3\\u4eba\\u4e34\\u65f6\\u7167\\u987e\\u5a74\\u5b69\\u8005;\"}]}\n"
     ]
    }
   ],
   "source": [
    "#Post 百度翻译\n",
    "import urllib.request\n",
    "import urllib.parse\n",
    "\n",
    "post_url = 'https://fanyi.baidu.com/sug'\n",
    "\n",
    "word = input('请输入你要查询的单词')\n",
    "#无论get还是post都是对字典进行操作\n",
    "#构建post表单数据\n",
    "form_data = {\n",
    "    'kw': word,\n",
    "}\n",
    "#伪装\n",
    "headers={\n",
    "    'User-Agent': 'Mozilla/5.0 (Macintosh; Intel Mac OS X 10_13_3)AppleWebKit/537.36 (KHTML, like Gecko)Chrome/70.0.3538.102 Safari/537.36',\n",
    "    }\n",
    "\n",
    "#构建请求对象\n",
    "request = urllib.request.Request(url=post_url, headers=headers)\n",
    "#处理post表单数据\n",
    "form_data = urllib.parse.urlencode(form_data).encode()\n",
    "#发送请求\n",
    "response = urllib.request.urlopen(request, data=form_data)\n",
    "\n",
    "print(response.read().decode())"
   ]
  },
  {
   "cell_type": "code",
   "execution_count": 27,
   "metadata": {},
   "outputs": [
    {
     "name": "stdout",
     "output_type": "stream",
     "text": [
      "输入你想要第几页的数据1\n",
      "[{\"rating\":[\"9.4\",\"50\"],\"rank\":1,\"cover_url\":\"https://img3.doubanio.com\\/view\\/photo\\/s_ratio_poster\\/public\\/p511118051.jpg\",\"is_playable\":true,\"id\":\"1295644\",\"types\":[\"剧情\",\"动作\",\"犯罪\"],\"regions\":[\"法国\"],\"title\":\"这个杀手不太冷\",\"url\":\"https:\\/\\/movie.douban.com\\/subject\\/1295644\\/\",\"release_date\":\"1994-09-14\",\"actor_count\":20,\"vote_count\":1168710,\"score\":\"9.4\",\"actors\":[\"让·雷诺\",\"娜塔莉·波特曼\",\"加里·奥德曼\",\"丹尼·爱罗\",\"彼得·阿佩尔\",\"迈克尔·巴达鲁科\",\"艾伦·格里尼\",\"伊丽莎白·瑞根\",\"卡尔·马图斯维奇\",\"弗兰克·赛格\",\"麦温\",\"乔治·马丁\",\"罗伯特·拉萨多\",\"亚当·布斯奇\",\"马里奥·托迪斯科\",\"萨米·纳塞利\",\"让·雨果·安格拉德\",\"埃莱娜·卡多纳\",\"大塚明夫\",\"沈晓谦\"],\"is_watched\":false},{\"rating\":[\"9.2\",\"45\"],\"rank\":2,\"cover_url\":\"https://img3.doubanio.com\\/view\\/photo\\/s_ratio_poster\\/public\\/p647099823.jpg\",\"is_playable\":true,\"id\":\"1295399\",\"types\":[\"动作\",\"冒险\",\"剧情\"],\"regions\":[\"日本\"],\"title\":\"七武士\",\"url\":\"https:\\/\\/movie.douban.com\\/subject\\/1295399\\/\",\"release_date\":\"1954-04-26\",\"actor_count\":20,\"vote_count\":96987,\"score\":\"9.2\",\"actors\":[\"三船敏郎\",\"志村乔\",\"稻叶义男\",\"宫口精二\",\"千秋实\",\"加东大介\",\"木村功\",\"本间文子\",\"小杉义男\",\"高木新平\",\"中岛春雄\",\"小川虎之助\",\"东野英治郎\",\"土屋嘉男\",\"高堂国典\",\"津岛惠子\",\"藤原釜足\",\"仲代达矢\",\"左卜全\",\"马野都留子\"],\"is_watched\":false},{\"rating\":[\"9.1\",\"45\"],\"rank\":3,\"cover_url\":\"https://img3.doubanio.com\\/view\\/photo\\/s_ratio_poster\\/public\\/p462657443.jpg\",\"is_playable\":true,\"id\":\"1851857\",\"types\":[\"剧情\",\"动作\",\"科幻\",\"犯罪\",\"惊悚\"],\"regions\":[\"美国\",\"英国\"],\"title\":\"蝙蝠侠：黑暗骑士\",\"url\":\"https:\\/\\/movie.douban.com\\/subject\\/1851857\\/\",\"release_date\":\"2008-07-14\",\"actor_count\":38,\"vote_count\":462645,\"score\":\"9.1\",\"actors\":[\"克里斯蒂安·贝尔\",\"希斯·莱杰\",\"艾伦·艾克哈特\",\"迈克尔·凯恩\",\"玛吉·吉伦哈尔\",\"加里·奥德曼\",\"摩根·弗里曼\",\"莫尼克·加布里埃拉·库尔内\",\"罗恩·迪恩\",\"基里安·墨菲\",\"黄经汉\",\"内斯特·卡博内尔\",\"埃里克·罗伯茨\",\"里特奇·科斯特\",\"安东尼·迈克尔·豪尔\",\"基斯·斯扎拉巴基克\",\"柯林·麦克法兰\",\"约书亚·哈尔托\",\"美琳达·麦格劳\",\"内森·甘宝\",\"迈克尔·维约\",\"迈克尔·斯托扬诺夫\",\"威廉·斯米利\",\"丹尼·高德林\",\"迈克尔·加·怀特\",\"马修·奥尼尔\",\"威廉·菲德内尔\",\"欧鲁米基·欧拉乌米\",\"格雷格·比姆\",\"爱利克·赫尔曼\",\"毕崔斯·罗森\",\"文森佐·尼克力\",\"陈冠希\",\"理查德·迪兰\",\"大卫·达斯马齐连\",\"罗南·萨莫尔斯\",\"利萨·麦克阿里斯特\",\"Adam Kalesperis\"],\"is_watched\":false},{\"rating\":[\"9.1\",\"45\"],\"rank\":4,\"cover_url\":\"https://img3.doubanio.com\\/view\\/photo\\/s_ratio_poster\\/public\\/p1910825503.jpg\",\"is_playable\":true,\"id\":\"1291552\",\"types\":[\"剧情\",\"动作\",\"奇幻\",\"冒险\"],\"regions\":[\"美国\",\"新西兰\"],\"title\":\"指环王3：王者无敌\",\"url\":\"https:\\/\\/movie.douban.com\\/subject\\/1291552\\/\",\"release_date\":\"2004-03-12\",\"actor_count\":38,\"vote_count\":372923,\"score\":\"9.1\",\"actors\":[\"维果·莫腾森\",\"伊莱贾·伍德\",\"西恩·奥斯汀\",\"丽芙·泰勒\",\"伊恩·麦克莱恩\",\"奥兰多·布鲁姆\",\"凯特·布兰切特\",\"米兰达·奥图\",\"安迪·瑟金斯\",\"雨果·维文\",\"多米尼克·莫纳汉\",\"比利·博伊德\",\"马尔顿·索克斯\",\"卡尔·厄本\",\"克里斯托弗·李\",\"约翰·瑞斯-戴维斯\",\"伊安·霍姆\",\"阿兰·霍华德\",\"萨德文·布罗菲\",\"伯纳德·希尔\",\"约翰·贝西\",\"彼得·杰克逊\",\"布雷特·麦肯齐\",\"劳伦斯·马克奥雷\",\"Maisy McLeod-Riera\",\"乔尔·托贝克\",\"杰德·布罗菲\",\"姜广涛\",\"张磊\",\"萨拉·贝克\",\"大卫·文翰\",\"肖恩·宾\",\"Sarah McLeod\",\"Harry Sinclair\",\"佩特·史密斯\",\"Noel Appleby\",\"约翰·诺贝尔\",\"阿利斯泰尔·布朗宁\"],\"is_watched\":false},{\"rating\":[\"9.0\",\"45\"],\"rank\":5,\"cover_url\":\"https://img1.doubanio.com\\/view\\/photo\\/s_ratio_poster\\/public\\/p1910926158.jpg\",\"is_playable\":false,\"id\":\"1292000\",\"types\":[\"剧情\",\"动作\",\"悬疑\",\"惊悚\"],\"regions\":[\"美国\",\"德国\"],\"title\":\"搏击俱乐部\",\"url\":\"https:\\/\\/movie.douban.com\\/subject\\/1292000\\/\",\"release_date\":\"1999-09-10\",\"actor_count\":29,\"vote_count\":487726,\"score\":\"9.0\",\"actors\":[\"爱德华·诺顿\",\"布拉德·皮特\",\"海伦娜·伯翰·卡特\",\"扎克·格雷尼尔\",\"米特·洛夫\",\"杰瑞德·莱托\",\"艾恩·贝利\",\"里奇蒙德·阿奎特 \",\"乔治·马奎尔\",\"Bennie Moore\",\"劳伦·桑切斯\",\"马特·温斯顿\",\"斯图尔特·布拉姆博格\",\"Carl Ciarfalio\",\"Tyrone R. Livingston\",\"保罗·卡拉夫特斯\",\"Scotch Ellis Loring\",\"Andi Carnick\",\"Markus Redmond\",\"大卫·安德鲁斯\",\"迈克尔·肖姆斯·维尔斯\",\"Eugenie Bondurant\",\"Kevin Scott Mack\",\"Evan Mirand\",\"乔伊·比索奈特\",\"Christina Cabot\",\"大卫·李·史密斯\",\"霍特·麦克卡兰尼\",\"鲍勃·斯蒂芬森\"],\"is_watched\":false},{\"rating\":[\"9.0\",\"45\"],\"rank\":6,\"cover_url\":\"https://img3.doubanio.com\\/view\\/photo\\/s_ratio_poster\\/public\\/p909265336.jpg\",\"is_playable\":true,\"id\":\"1291572\",\"types\":[\"剧情\",\"动作\",\"奇幻\",\"冒险\"],\"regions\":[\"美国\",\"新西兰\"],\"title\":\"指环王2：双塔奇兵\",\"url\":\"https:\\/\\/movie.douban.com\\/subject\\/1291572\\/\",\"release_date\":\"2003-04-25\",\"actor_count\":28,\"vote_count\":349975,\"score\":\"9.0\",\"actors\":[\"伊莱贾·伍德\",\"西恩·奥斯汀\",\"伊恩·麦克莱恩\",\"维果·莫腾森\",\"奥兰多·布鲁姆\",\"克里斯托弗·李\",\"丽芙·泰勒\",\"安迪·瑟金斯\",\"雨果·维文\",\"卡尔·厄本\",\"凯特·布兰切特\",\"多米尼克·莫纳汉\",\"大卫·文翰\",\"比利·博伊德\",\"布拉德·道里夫\",\"伯纳德·希尔\",\"约翰·瑞斯-戴维斯\",\"米兰达·奥图\",\"彼得·杰克逊\",\"肖恩·宾\",\"陆建艺\",\"姜广涛\",\"张磊\",\"杰德·布罗菲\",\"劳伦斯·马克奥雷\",\"克雷格·帕克\",\"约翰·诺贝尔\",\"丹·汉纳\"],\"is_watched\":false},{\"rating\":[\"9.0\",\"45\"],\"rank\":7,\"cover_url\":\"https://img3.doubanio.com\\/view\\/photo\\/s_ratio_poster\\/public\\/p2248676081.jpg\",\"is_playable\":true,\"id\":\"1292778\",\"types\":[\"剧情\",\"喜剧\",\"动作\",\"战争\",\"冒险\"],\"regions\":[\"美国\"],\"title\":\"将军号\",\"url\":\"https:\\/\\/movie.douban.com\\/subject\\/1292778\\/\",\"release_date\":\"1926-12-31\",\"actor_count\":12,\"vote_count\":10136,\"score\":\"9.0\",\"actors\":[\"巴斯特·基顿\",\"玛丽昂·马克\",\"格伦·卡文德\",\"吉姆·法利\",\"弗雷德里克·弗鲁姆\",\"查尔斯·亨利·史密斯\",\"弗兰克·巴恩斯\",\"乔·基顿\",\"麦克·多林\",\"汤姆·纳恩\",\"波利斯·卡洛夫\",\"安东尼·哈维\"],\"is_watched\":false},{\"rating\":[\"8.9\",\"45\"],\"rank\":8,\"cover_url\":\"https://img3.doubanio.com\\/view\\/photo\\/s_ratio_poster\\/public\\/p1354436051.jpg\",\"is_playable\":true,\"id\":\"1291571\",\"types\":[\"剧情\",\"动作\",\"奇幻\",\"冒险\"],\"regions\":[\"新西兰\",\"美国\"],\"title\":\"指环王1：魔戒再现\",\"url\":\"https:\\/\\/movie.douban.com\\/subject\\/1291571\\/\",\"release_date\":\"2002-04-04\",\"actor_count\":32,\"vote_count\":391906,\"score\":\"8.9\",\"actors\":[\"伊莱贾·伍德\",\"西恩·奥斯汀\",\"伊恩·麦克莱恩\",\"维果·莫腾森\",\"奥兰多·布鲁姆\",\"凯特·布兰切特\",\"肖恩·宾\",\"克里斯托弗·李\",\"雨果·维文\",\"丽芙·泰勒\",\"安迪·瑟金斯\",\"伊安·霍姆\",\"多米尼克·莫纳汉\",\"萨拉·贝克\",\"约翰·瑞斯-戴维斯\",\"卡梅伦·罗得\",\"Sarah McLeod\",\"大卫·韦瑟莱\",\"伊恩·穆内\",\"彼得·麦肯齐\",\"阿兰·霍华德\",\"姜广涛\",\"威廉·约翰逊\",\"张磊\",\"彼得·杰克逊\",\"马克·弗格森\",\"Harry Sinclair\",\"Noel Appleby\",\"比利·博伊德\",\"劳伦斯·马克奥雷\",\"克雷格·帕克\",\"马尔顿·索克斯\"],\"is_watched\":false},{\"rating\":[\"8.9\",\"45\"],\"rank\":9,\"cover_url\":\"https://img1.doubanio.com\\/view\\/photo\\/s_ratio_poster\\/public\\/p451926968.jpg\",\"is_playable\":true,\"id\":\"1291843\",\"types\":[\"动作\",\"科幻\"],\"regions\":[\"美国\",\"澳大利亚\"],\"title\":\"黑客帝国\",\"url\":\"https:\\/\\/movie.douban.com\\/subject\\/1291843\\/\",\"release_date\":\"1999-03-31\",\"actor_count\":19,\"vote_count\":368802,\"score\":\"8.9\",\"actors\":[\"基努·里维斯\",\"凯瑞-安·莫斯\",\"劳伦斯·菲什伯恩\",\"雨果·维文\",\"格洛丽亚·福斯特\",\"乔·潘托里亚诺\",\"马库斯·钟\",\"朱利安·阿拉汗加\",\"马特·多兰\",\"比尔·扬\",\"罗温·维特\",\"童自荣\",\"沈晓谦\",\"户田惠子\",\"阿达·尼科德莫\",\"安东尼雷派克\",\"罗伯特·泰勒\",\"Belinda McClory\",\"张磊\"],\"is_watched\":false},{\"rating\":[\"8.9\",\"45\"],\"rank\":10,\"cover_url\":\"https://img3.doubanio.com\\/view\\/photo\\/s_ratio_poster\\/public\\/p1910922395.jpg\",\"is_playable\":false,\"id\":\"1291936\",\"types\":[\"动作\",\"科幻\",\"动画\"],\"regions\":[\"日本\"],\"title\":\"攻壳机动队\",\"url\":\"https:\\/\\/movie.douban.com\\/subject\\/1291936\\/\",\"release_date\":\"1995-11-18\",\"actor_count\":12,\"vote_count\":71634,\"score\":\"8.9\",\"actors\":[\"田中敦子\",\"大塚明夫\",\"山寺宏一\",\"大木民夫\",\"家弓家正\",\"玄田哲章\",\"山内雅人\",\"小川真司\",\"布莱恩·科兰斯顿\",\"佐藤政道\",\"Lia Sargent\",\"小高三良\"],\"is_watched\":false},{\"rating\":[\"8.8\",\"45\"],\"rank\":11,\"cover_url\":\"https://img3.doubanio.com\\/view\\/photo\\/s_ratio_poster\\/public\\/p1465235231.jpg\",\"is_playable\":true,\"id\":\"1309046\",\"types\":[\"剧情\",\"动作\",\"科幻\",\"惊悚\"],\"regions\":[\"美国\",\"英国\",\"德国\"],\"title\":\"V字仇杀队\",\"url\":\"https:\\/\\/movie.douban.com\\/subject\\/1309046\\/\",\"release_date\":\"2005-12-11\",\"actor_count\":40,\"vote_count\":552277,\"score\":\"8.8\",\"actors\":[\"娜塔莉·波特曼\",\"雨果·维文\",\"斯蒂芬·瑞\",\"斯蒂芬·弗雷\",\"约翰·赫特\",\"蒂姆·皮戈特-史密斯\",\"鲁珀特·格雷夫斯\",\"罗杰·阿拉姆\",\"本·迈尔斯\",\"西妮德·库萨克\",\"娜塔莎·怀特曼\",\"约翰·斯坦丁\",\"埃迪·马森\",\"克里夫·阿什伯恩\",\"Emma Field-Rayner\",\"伊安·布尔费尔德\",\"Mark Phoenix\",\"Alister Mazzotti\",\"比莉·库克\",\"盖伊·亨利\",\"科斯马·肖\",\"Megan Gay\",\"Roderic Culver\",\"Tara Hacking\",\"安迪·莱什利兹\",\"查德·斯塔赫斯基\",\"布拉德利·斯蒂夫·福特\",\"Madeleine Rakic-Platt\",\"塞丽娜·贾尔斯\",\"卡斯腾·海斯\",\"伊莫琴·普茨\",\"劳拉·格林伍德\",\"Kyra Meyer\",\"玛丽·萧克莱 \",\"理查德·莱恩\",\"Michael Simkins\",\"马迪斯·兰德维尔 \",\"大卫·雷奇\",\"Simon Newby\",\"马尔科姆·辛克莱\"],\"is_watched\":false},{\"rating\":[\"8.8\",\"45\"],\"rank\":12,\"cover_url\":\"https://img3.doubanio.com\\/view\\/photo\\/s_ratio_poster\\/public\\/p1374546770.jpg\",\"is_playable\":true,\"id\":\"1294639\",\"types\":[\"动作\",\"传记\",\"剧情\",\"历史\",\"战争\"],\"regions\":[\"美国\"],\"title\":\"勇敢的心\",\"url\":\"https:\\/\\/movie.douban.com\\/subject\\/1294639\\/\",\"release_date\":\"1995-05-18\",\"actor_count\":24,\"vote_count\":353006,\"score\":\"8.8\",\"actors\":[\"梅尔·吉布森\",\"苏菲·玛索\",\"布莱恩·考克斯\",\"詹姆斯·卡沙莫\",\"辛·劳洛\",\"凯瑟琳·麦克马克\",\"安古斯·麦克菲登\",\"伊安·邦纳\",\"大卫·奥哈拉\",\"彼得·穆兰\",\"Mhairi Calvey\",\"詹姆斯·鲁宾逊\",\"童自荣\",\"詹姆斯·霍纳\",\"迈克尔·伯恩\",\"杰拉德·迈克索利\",\"辛·麦金利\",\"帕特里克·麦高汉\",\"史蒂芬·比灵顿\",\"艾伦·阿姆斯特朗\",\"布莱丹·格里森\",\"汤米·弗拉纳根\",\"亚力克斯·诺顿\",\"Donal Gibson\"],\"is_watched\":false},{\"rating\":[\"8.8\",\"45\"],\"rank\":13,\"cover_url\":\"https://img3.doubanio.com\\/view\\/photo\\/s_ratio_poster\\/public\\/p2324366931.jpg\",\"is_playable\":true,\"id\":\"1296196\",\"types\":[\"动作\",\"剧情\",\"战争\"],\"regions\":[\"日本\",\"法国\"],\"title\":\"乱\",\"url\":\"https:\\/\\/movie.douban.com\\/subject\\/1296196\\/\",\"release_date\":\"1985-06-01\",\"actor_count\":14,\"vote_count\":41862,\"score\":\"8.8\",\"actors\":[\"仲代达矢\",\"寺尾聪\",\"根津甚八\",\"野村万斋\",\"寺岛进\",\"伊藤敏八\",\"音羽久米子\",\"南條玲子\",\"油井昌由树\",\"池畑慎之介\",\"宫坂广\",\"本多猪四郎 \",\"隆大介\",\"原田美枝子\"],\"is_watched\":false},{\"rating\":[\"8.8\",\"45\"],\"rank\":14,\"cover_url\":\"https://img3.doubanio.com\\/view\\/photo\\/s_ratio_poster\\/public\\/p1185327352.jpg\",\"is_playable\":true,\"id\":\"1292347\",\"types\":[\"动作\",\"剧情\",\"动画\",\"科幻\"],\"regions\":[\"美国\"],\"title\":\"黑客帝国动画版\",\"url\":\"https:\\/\\/movie.douban.com\\/subject\\/1292347\\/\",\"release_date\":\"2003-06-03\",\"actor_count\":11,\"vote_count\":33701,\"score\":\"8.8\",\"actors\":[\"大塚明夫\",\"克莱顿·华生\",\"帕梅拉·阿德龙\",\"海蒂·布雷斯\",\"特伦斯·卡森\",\"美琳达·克拉克\",\"奥利薇亚·阿波\",\"Dane A. Davis\",\"William R. Dean\",\"里克·戈麦斯\",\"基努·里维斯\"],\"is_watched\":false},{\"rating\":[\"8.8\",\"45\"],\"rank\":15,\"cover_url\":\"https://img3.doubanio.com\\/view\\/photo\\/s_ratio_poster\\/public\\/p2163659004.jpg\",\"is_playable\":true,\"id\":\"1292515\",\"types\":[\"动作\",\"犯罪\",\"剧情\",\"惊悚\"],\"regions\":[\"日本\"],\"title\":\"用心棒\",\"url\":\"https:\\/\\/movie.douban.com\\/subject\\/1292515\\/\",\"release_date\":\"1961-04-25\",\"actor_count\":12,\"vote_count\":17611,\"score\":\"8.8\",\"actors\":[\"三船敏郎\",\"仲代达矢\",\"山田五十铃\",\"志村乔\",\"东野英治郎\",\"加东大介\",\"藤田进\",\"本间文子\",\"山茶花究\",\"渡边笃\",\"土屋嘉男\",\"司叶子\"],\"is_watched\":false},{\"rating\":[\"8.8\",\"45\"],\"rank\":16,\"cover_url\":\"https://img3.doubanio.com\\/view\\/photo\\/s_ratio_poster\\/public\\/p2376777385.jpg\",\"is_playable\":false,\"id\":\"1305697\",\"types\":[\"动作\",\"战争\"],\"regions\":[\"南斯拉夫\"],\"title\":\"桥\",\"url\":\"https:\\/\\/movie.douban.com\\/subject\\/1305697\\/\",\"release_date\":\"1969-07-14\",\"actor_count\":18,\"vote_count\":13530,\"score\":\"8.8\",\"actors\":[\"韦利米尔·巴塔·日沃伊诺维奇\",\"斯洛博丹·佩罗维奇\",\"鲍里斯·德沃尔尼克\",\"Veljko Mandic\",\"Jovan Milicevic\",\"希比娜·米亚托维奇\",\"Slobodan Velimirovic\",\"Milja Vujanovic\",\"Minja Vojvodic\",\"Dusan Janicijevic\",\"伊万·严尼奇耶维奇\",\"Wilhelm Koch-Hooge\",\"Igor Galo\",\"汉约·哈塞\",\"Maks Furijan\",\"雷利亚·巴希奇\",\"德米特·比滕茨\",\"Boro Begovic\"],\"is_watched\":false},{\"rating\":[\"8.8\",\"45\"],\"rank\":17,\"cover_url\":\"https://img3.doubanio.com\\/view\\/photo\\/s_ratio_poster\\/public\\/p2183431945.jpg\",\"is_playable\":false,\"id\":\"1870128\",\"types\":[\"动作\",\"科幻\",\"动画\"],\"regions\":[\"日本\"],\"title\":\"攻壳机动队SSS\",\"url\":\"https:\\/\\/movie.douban.com\\/subject\\/1870128\\/\",\"release_date\":\"2006-09-01\",\"actor_count\":22,\"vote_count\":10555,\"score\":\"8.8\",\"actors\":[\"田中敦子\",\"大塚明夫\",\"阪脩\",\"大川透\",\"山寺宏一\",\"戴夫·维滕博格\",\"Joshua Seth\",\"Mantarô Iwao\",\"丸山咏二\",\"莫娜·马歇尔\",\"Taimei Suzuki\",\"Bob Buchholz\",\"Taro Yamaguchi\",\"玄田哲章\",\"Richard Epcar\",\"玉川纱己子\",\"天田益男\",\"榊原良子\",\"立壁和也\",\"玛丽·伊丽莎白·麦格林\",\"内田裕也\",\"克里斯平·弗里曼\"],\"is_watched\":false},{\"rating\":[\"8.7\",\"45\"],\"rank\":18,\"cover_url\":\"https://img1.doubanio.com\\/view\\/photo\\/s_ratio_poster\\/public\\/p1512562287.jpg\",\"is_playable\":true,\"id\":\"3742360\",\"types\":[\"剧情\",\"喜剧\",\"动作\",\"西部\"],\"regions\":[\"中国大陆\",\"香港\"],\"title\":\"让子弹飞\",\"url\":\"https:\\/\\/movie.douban.com\\/subject\\/3742360\\/\",\"release_date\":\"2010-12-16\",\"actor_count\":29,\"vote_count\":815512,\"score\":\"8.7\",\"actors\":[\"姜文\",\"葛优\",\"周润发\",\"刘嘉玲\",\"陈坤\",\"张默\",\"姜武\",\"周韵\",\"廖凡\",\"姚橹\",\"邵兵\",\"苗圃\",\"冯小刚\",\"胡军\",\"马珂\",\"白冰\",\"杜奕衡\",\"李静\",\"胡明\",\"危笑\",\"杨奇雨\",\"赵铭\",\"宣晓鸣\",\"岳红\",\"姜洪齐\",\"文祥\",\"陈磊\",\"沙瑀\",\"吴昔果\"],\"is_watched\":false},{\"rating\":[\"8.7\",\"45\"],\"rank\":19,\"cover_url\":\"https://img1.doubanio.com\\/view\\/photo\\/s_ratio_poster\\/public\\/p2516578307.jpg\",\"is_playable\":true,\"id\":\"4920389\",\"types\":[\"动作\",\"科幻\",\"冒险\"],\"regions\":[\"美国\"],\"title\":\"头号玩家\",\"url\":\"https:\\/\\/movie.douban.com\\/subject\\/4920389\\/\",\"release_date\":\"2018-03-30\",\"actor_count\":32,\"vote_count\":659276,\"score\":\"8.7\",\"actors\":[\"泰伊·谢里丹\",\"奥利维亚·库克\",\"本·门德尔森\",\"马克·里朗斯\",\"丽娜·维特\",\"森崎温\",\"赵家正\",\"西蒙·佩吉\",\"T·J·米勒\",\"汉娜·乔恩-卡门\",\"拉尔夫·尹爱森\",\"苏珊·林奇\",\"克莱尔·希金斯\",\"劳伦斯·斯佩尔曼\",\"佩蒂塔·维克斯\",\"艾萨克·安德鲁斯\",\"内特·莫汗\",\"图尔洛夫·科维里\",\"罗伯特·吉尔贝托\",\"迈克尔·怀德曼\",\"罗娜·莫里森\",\"基特·康纳\",\"杰登·福拉-奈特\",\"麦肯娜·格瑞丝\",\"丹尼尔·祖尔格哈德利\",\"阿隆索·阿尔瓦雷斯\",\"露露·威尔逊\",\"阿玛尼·杰克森\",\"朱莉娅·尼克森\",\"利蒂希娅·赖特\",\"雅各布·贝特兰德\",\"埃里克·西格蒙德森\"],\"is_watched\":false},{\"rating\":[\"8.7\",\"45\"],\"rank\":20,\"cover_url\":\"https://img3.doubanio.com\\/view\\/photo\\/s_ratio_poster\\/public\\/p1596085504.jpg\",\"is_playable\":true,\"id\":\"1298070\",\"types\":[\"动作\",\"冒险\",\"奇幻\"],\"regions\":[\"美国\"],\"title\":\"加勒比海盗\",\"url\":\"https:\\/\\/movie.douban.com\\/subject\\/1298070\\/\",\"release_date\":\"2003-11-21\",\"actor_count\":33,\"vote_count\":446994,\"score\":\"8.7\",\"actors\":[\"约翰尼·德普\",\"杰弗里·拉什\",\"奥兰多·布鲁姆\",\"凯拉·奈特莉\",\"杰克·达文波特\",\"乔纳森·普雷斯\",\"凯文·麦克纳利\",\"David Patykewich\",\"乔迪·卡巴勒罗\",\"大卫·拜利\",\"露欣达·戴泽克\",\"劳伦·马赫\",\"小伊萨克·C.辛格尔顿\",\"Nej Adamson\",\"Giles New\",\"陆建艺\",\"戴兰·史密斯\",\"盖伊·西纳\",\"达米恩·奥哈尔\",\"Gerard J. Reyes\",\"李·阿伦伯格\",\"马丁·科勒巴\",\"佐伊·索尔达娜\",\"卢克·德·沃夫松\",\"Joe Grisaffi\",\"格雷格·埃利斯\",\"特雷瓦·埃迪内\",\"特雷沃·格德达德\",\"罗比·基\",\"麦肯锡·克鲁克\",\"保罗·基斯\",\"Christian Martin\",\"瓦妮莎·布兰奇\"],\"is_watched\":false}]\n"
     ]
    }
   ],
   "source": [
    "#Ajax Get&Post\n",
    "import urllib.request\n",
    "import urllib.parse\n",
    "\n",
    "url ='https://movie.douban.com/j/chart/top_list?type=5&interval_id=100%3A90&action=&'\n",
    "\n",
    "page=int(input('输入你想要第几页的数据'))\n",
    "number = 20\n",
    "\n",
    "#构造get参数\n",
    "data={\n",
    "    'start':(page-1)*number,\n",
    "    'limit': number,\n",
    "}\n",
    "\n",
    "\n",
    "#转化字典为query_string\n",
    "query_string = urllib.parse.urlencode(data)\n",
    "url += query_string\n",
    "\n",
    "headers={\n",
    "        'User-Agent': 'Mozilla/5.0 (Macintosh; Intel Mac OS X 10_13_3)AppleWebKit/537.36 (KHTML, like Gecko)Chrome/70.0.3538.102 Safari/537.36',\n",
    "}\n",
    "\n",
    "request = urllib.request.Request(url=url,headers = headers)\n",
    "response = urllib.request.urlopen(request)\n",
    "print(response.read().decode())\n"
   ]
  },
  {
   "cell_type": "code",
   "execution_count": 41,
   "metadata": {},
   "outputs": [
    {
     "name": "stdout",
     "output_type": "stream",
     "text": [
      "输入想要查询的城市： 上海\n",
      "输入想要查询的页码： 1\n",
      "输入每页的显示上限： 5\n",
      "{\"Table\":[{\"rowcount\":410}],\"Table1\":[{\"rownum\":1,\"storeName\":\"茂名\",\"addressDetail\":\"吴江路269号2层\",\"pro\":\"店内参观,礼品卡,手机点餐,溯源\",\"provinceName\":\"上海市\",\"cityName\":\"上海市\"},{\"rownum\":2,\"storeName\":\"翔川\",\"addressDetail\":\"妙镜路1118号E号商铺\",\"pro\":\"Wi-Fi,店内参观,礼品卡,溯源\",\"provinceName\":\"上海市\",\"cityName\":\"上海市\"},{\"rownum\":3,\"storeName\":\"动力南广场（汇金奥特莱斯B1层）\",\"addressDetail\":\"石龙路750-3号上海南站地下商场南馆\",\"pro\":\"礼品卡\",\"provinceName\":\"上海市\",\"cityName\":\"上海市\"},{\"rownum\":4,\"storeName\":\"江苏\",\"addressDetail\":\"江苏路398号1、2层（舜元弘基天地1楼）\",\"pro\":\"Wi-Fi,店内参观,礼品卡,溯源\",\"provinceName\":\"上海市\",\"cityName\":\"上海市\"},{\"rownum\":5,\"storeName\":\"威宁\",\"addressDetail\":\"天山路352号101和201\",\"pro\":\"Wi-Fi,点唱机,店内参观,礼品卡,生日餐会,溯源\",\"provinceName\":\"上海市\",\"cityName\":\"上海市\"}]}\n"
     ]
    }
   ],
   "source": [
    "#Post\n",
    "\n",
    "post_url ='http://www.kfc.com.cn/kfccda/ashx/GetStoreList.ashx?op=cname'\n",
    "\n",
    "city = input('输入想要查询的城市： ')\n",
    "page = input('输入想要查询的页码： ')\n",
    "pageLimit = input('输入每页的显示上限： ')\n",
    "#构建Post表单数据\n",
    "form_data = {\n",
    "    'cname': city,\n",
    "    'pid': '',\n",
    "    'pageIndex': page,\n",
    "    'pageSize': pageLimit,\n",
    "    }\n",
    "\n",
    "#处理post表单数据\n",
    "form_data = urllib.parse.urlencode(form_data).encode()\n",
    "\n",
    "#伪装\n",
    "post_headers = {\n",
    "            'User-Agent': 'Mozilla/5.0 (Macintosh; Intel Mac OS X 10_13_3)AppleWebKit/537.36 (KHTML, like Gecko)Chrome/70.0.3538.102 Safari/537.36',\n",
    "}\n",
    "request = urllib.request.Request(url=post_url,headers = post_headers)\n",
    "response = urllib.request.urlopen(request,data=form_data)\n",
    "print(response.read().decode())"
   ]
  },
  {
   "cell_type": "code",
   "execution_count": 51,
   "metadata": {},
   "outputs": [
    {
     "name": "stdout",
     "output_type": "stream",
     "text": [
      "请输入要爬取的吧名：乃木坂46\n",
      "请输入爬取的起始页码： 1\n",
      "请输入爬取的结束页码： 2\n",
      "http://tieba.baidu.com/f?ie=utf-8&kw=%E4%B9%83%E6%9C%A8%E5%9D%8246&pn=0\n",
      "第1页开始下载.....\n",
      "第1页下载完成.....\n",
      "http://tieba.baidu.com/f?ie=utf-8&kw=%E4%B9%83%E6%9C%A8%E5%9D%8246&pn=50\n",
      "第2页开始下载.....\n",
      "第2页下载完成.....\n"
     ]
    }
   ],
   "source": [
    "#百度贴吧\n",
    "import urllib.request\n",
    "import urllib.parse\n",
    "import os\n",
    "\n",
    "url = 'http://tieba.baidu.com/f?ie=utf-8&'\n",
    "\n",
    "ba_name = input('请输入要爬取的吧名：')\n",
    "start_page = int(input('请输入爬取的起始页码： '))\n",
    "end_page = int(input('请输入爬取的结束页码： '))\n",
    "\n",
    "#创建文件夹\n",
    "if not os.path.exists(ba_name):\n",
    "    os.mkdir(ba_name)\n",
    "\n",
    "for page in range(start_page, end_page + 1 ):\n",
    "    data = {\n",
    "        'kw': ba_name,\n",
    "        'pn': (page-1)*50,\n",
    "    }\n",
    "    data = urllib.parse.urlencode(data)\n",
    "    new_url = url + data\n",
    "    print(new_url)\n",
    "    headers = {\n",
    "            'User-Agent': 'Mozilla/5.0 (Macintosh; Intel Mac OS X 10_13_3)AppleWebKit/537.36 (KHTML, like Gecko)Chrome/70.0.3538.102 Safari/537.36',\n",
    "        }\n",
    "    request = urllib.request.Request(url=url,headers = headers)\n",
    "    print('第%s页开始下载.....' % page)\n",
    "    response = urllib.request.urlopen(request)\n",
    "    \n",
    "    filename = ba_name+'_'+str(page)+'.html'\n",
    "    filepath = ba_name+'/'+filename\n",
    "    \n",
    "    with open(filepath,'wb') as fp:\n",
    "        fp.write(response.read())\n",
    "        print('第%s页下载完成.....' % page)\n",
    "\n",
    "    "
   ]
  },
  {
   "cell_type": "code",
   "execution_count": 54,
   "metadata": {},
   "outputs": [
    {
     "name": "stdout",
     "output_type": "stream",
     "text": [
      "HTTP Error 403: Forbidden\n",
      "403\n"
     ]
    }
   ],
   "source": [
    "#URL erro 和 Http error\n",
    "import urllib.request\n",
    "import urllib.parse\n",
    "import urllib.error\n",
    "\n",
    "url = 'http://www.bucunzai.com/'\n",
    "\n",
    "try:\n",
    "    response = urllib.request.urlopen(url)\n",
    "    print (response)\n",
    "    \n",
    "#HTTP Error 是 URL Error的子类所以同时存在时要放在前面\n",
    "except urllib.error.HTTPError as e:\n",
    "    print(e)\n",
    "except urllib.error.URLError as e:\n",
    "    print(e)\n"
   ]
  },
  {
   "cell_type": "code",
   "execution_count": 57,
   "metadata": {},
   "outputs": [],
   "source": [
    "#handler基本用法\n",
    "import urllib.request\n",
    "import urllib.parse\n",
    "\n",
    "url = 'http://www.baidu.com/'\n",
    "\n",
    "headers = {\n",
    "            'User-Agent': 'Mozilla/5.0 (Macintosh; Intel Mac OS X 10_13_3)AppleWebKit/537.36 (KHTML, like Gecko)Chrome/70.0.3538.102 Safari/537.36',\n",
    "        }\n",
    "#创建handler\n",
    "handler = urllib.request.HTTPHandler()\n",
    "#通过handler 创建一个opener\n",
    "opener = urllib.request.build_opener(handler)\n",
    "\n",
    "#构建请求对象\n",
    "request = urllib.request.Request(url=url,headers=headers)\n",
    "\n",
    "response = opener.open(request)\n",
    "\n",
    "# print(response.read().decode())\n",
    "\n",
    "\n"
   ]
  },
  {
   "cell_type": "code",
   "execution_count": 65,
   "metadata": {},
   "outputs": [],
   "source": [
    "#代理\n",
    "import urllib.request\n",
    "import urllib.parse\n",
    "\n",
    "#创建handler\n",
    "handler = urllib.request.ProxyHandler({'http':'180.118.135.71:9000'})\n",
    "#通过handler 创建一个opener\n",
    "opener = urllib.request.build_opener(handler)\n",
    "\n",
    "url = 'https://www.baidu.com/s?ie=utf-8&wd=ip'\n",
    "headers = {\n",
    "            'User-Agent': 'Mozilla/5.0 (Macintosh; Intel Mac OS X 10_13_3)AppleWebKit/537.36 (KHTML, like Gecko)Chrome/70.0.3538.102 Safari/537.36',\n",
    "        }\n",
    "request = urllib.request.Request(url=url,headers=headers)\n",
    "\n",
    "response = opener.open(request)\n",
    "\n",
    "with open('ip.html','wb') as fp:\n",
    "    fp.write(response.read())"
   ]
  },
  {
   "cell_type": "code",
   "execution_count": null,
   "metadata": {},
   "outputs": [],
   "source": [
    "#Cookie\n",
    "\n",
    "import urllib.request\n",
    "import urllib.parse\n",
    "import http.cooiejar\n",
    "\n",
    "#创建cookiejar 对象\n",
    "cj = http.cookiejar.CookieJar()\n",
    "\n",
    "#通过cookie jar 创建一个handler\n",
    "handler = urllib.request.HTTPCookieProcessor(cj)\n",
    "#创建opener\n",
    "opener = urllib.request.build_opener(handler)\n",
    "#所有的操作使用openner.open发送请求 因为服务端会生成cookie 且存入cj里面"
   ]
  },
  {
   "cell_type": "code",
   "execution_count": 72,
   "metadata": {},
   "outputs": [
    {
     "name": "stdout",
     "output_type": "stream",
     "text": [
      "请输入起始页码：1\n",
      "请输入结束页码：1\n",
      "['//pic.qiushibaike.com/system/pictures/12145/121452474/medium/45W4KTECVN94MSL7.jpg', '//pic.qiushibaike.com/system/pictures/12145/121452399/medium/A4NCB6TXL50UM30J.jpg', '//pic.qiushibaike.com/system/pictures/12145/121452351/medium/1T7YSRWPGX1EGYJ0.jpg', '//pic.qiushibaike.com/system/pictures/12145/121452328/medium/UA75E8FQ9WYO94VJ.jpg', '//pic.qiushibaike.com/system/pictures/12145/121452307/medium/TK50T1SGTMS6FF1A.jpg', '//pic.qiushibaike.com/system/pictures/12145/121452310/medium/IG8LLDEZY02UDHAK.jpg', '//pic.qiushibaike.com/system/pictures/12145/121452294/medium/OTAJP6D8FS0QOB59.jpg', '//pic.qiushibaike.com/system/pictures/12145/121452254/medium/ALZ5QIW223284VKO.jpg', '//pic.qiushibaike.com/system/pictures/12145/121452238/medium/0HGKD0UVPUH1I8L0.jpg', '//pic.qiushibaike.com/system/pictures/12145/121452237/medium/TGQO6X3JDANHYWLN.jpg', '//pic.qiushibaike.com/system/pictures/12145/121452232/medium/Z6R1L374ULDFBJUW.jpg', '//pic.qiushibaike.com/system/pictures/12145/121452244/medium/X09FV690RF4LVUQ2.jpg', '//pic.qiushibaike.com/system/pictures/12145/121452211/medium/THLE1SDZ9A6SIOCI.jpg', '//pic.qiushibaike.com/system/pictures/12145/121452110/medium/89456N3VESL6Z70V.jpg', '//pic.qiushibaike.com/system/pictures/12145/121452082/medium/M12UNYI51JI2MKIO.jpg', '//pic.qiushibaike.com/system/pictures/12145/121452055/medium/31NYLMC0WJCR7QD9.jpg', '//pic.qiushibaike.com/system/pictures/12145/121452047/medium/IT2K353J7CEFEP5H.jpg', '//pic.qiushibaike.com/system/pictures/12145/121452032/medium/GWTIB2FIBQGRH1EM.jpg', '//pic.qiushibaike.com/system/pictures/12145/121452024/medium/D8DYWWKZS0T8M6VU.jpg', '//pic.qiushibaike.com/system/pictures/12145/121452021/medium/OFRUWQ0G72GLUKQL.jpg']\n"
     ]
    }
   ],
   "source": [
    "#糗图\n",
    "import urllib.request\n",
    "import urllib.parse\n",
    "import re\n",
    "import os\n",
    "import time\n",
    "\n",
    "def handler_request(url,page):\n",
    "    url = url + str(page)+'/'\n",
    "    #print(url)\n",
    "    headers = {\n",
    "            'User-Agent': 'Mozilla/5.0 (Macintosh; Intel Mac OS X 10_13_3)AppleWebKit/537.36 (KHTML, like Gecko)Chrome/70.0.3538.102 Safari/537.36',\n",
    "        }\n",
    "    request = urllib.request.Request(url=url,headers=headers)\n",
    "    return request\n",
    "\n",
    "def download_img(content):\n",
    "    pattern = re.compile(r'<div class=\"thumb\">.*?<img src=\"(.*?)\".*?>.*?</div>',re.S)\n",
    "    lt = pattern.findall(content)\n",
    "    #print(lt)\n",
    "    for img in lt:\n",
    "        img = 'https:' +img\n",
    "        dirname = 'qiutu'\n",
    "        if not os.path.exisits(dirname):\n",
    "            os.mkdir(dirname)\n",
    "        filename = img.split('/')[-1]\n",
    "        filepath = dirname+'/'+filename\n",
    "        print('%s 图片正在下载....' %filename)\n",
    "        urllib.request.urlretrieve(img,filepath)\n",
    "        time.sleep(1)\n",
    "\n",
    "def main():\n",
    "    url = 'https://www.qiushibaike.com/pic/page/'\n",
    "    start_page = int(input('请输入起始页码：'))\n",
    "    end_page = int(input('请输入结束页码：'))\n",
    "    \n",
    "    for page in range(start_page,end_page+1):\n",
    "        #生成请求对象\n",
    "        print('第%s页开始下载... ' %page)\n",
    "        request = handler_request(url,page)\n",
    "        #获取相应内容\n",
    "        content = urllib.request.urlopen(request).read().decode()\n",
    "        #解析内容\n",
    "        download_img(content)\n",
    "        time.sleep(2)\n",
    "if __name__ == '__main__':\n",
    "    main()"
   ]
  },
  {
   "cell_type": "code",
   "execution_count": 118,
   "metadata": {
    "scrolled": false
   },
   "outputs": [
    {
     "name": "stdout",
     "output_type": "stream",
     "text": [
      "请输入工作地点: 杭州\n",
      "请输入工作关键字： python\n",
      "请输入起始页码： 1\n",
      "请输入结束页码： 1\n",
      "[<div class=\"contentpile\"><div class=\"loadinggif loadinggif--seat\"><img alt=\"loading\" class=\"loadinggif__img\" src=\"//desktop-bucket.zhaopin.cn/assets/loading.0e8f2c.gif\"/></div></div>]\n",
      "1\n"
     ]
    }
   ],
   "source": [
    "#智联招聘  \n",
    "#有bug Google 开发者工具 element中的源代码 和 网页源代码不一样。。。。\n",
    "from bs4 import  BeautifulSoup\n",
    "import urllib.request\n",
    "import urllib.parse\n",
    "\n",
    "class ZhiLianSpider(object):\n",
    "    #url中不变的内容 要和参数进行拼接 组成完整的url\n",
    "    url = 'https://sou.zhaopin.com/?'\n",
    "    def __init__(self,jl,kw,start_page,end_page):\n",
    "        #将上述参数全部保存成自己的成员属性\n",
    "        self.jl = jl\n",
    "        self.kw = kw\n",
    "        self.start_page = start_page\n",
    "        self.end_page = end_page\n",
    "        \n",
    "    def handle_request(self,page):\n",
    "        data = {\n",
    "            'jl': self.jl,\n",
    "            'kw': self.kw,\n",
    "            'p': page,\n",
    "        }\n",
    "        \n",
    "        url_now = self.url+urllib.parse.urlencode(data)\n",
    "        #print(url_now)\n",
    "        headers = {\n",
    "            'User-Agent': 'Mozilla/5.0 (Macintosh; Intel Mac OS X 10_13_3)AppleWebKit/537.36 (KHTML, like Gecko)Chrome/70.0.3538.102 Safari/537.36',\n",
    "        }\n",
    "        request = urllib.request.Request(url=url_now,headers=headers)\n",
    "        return request\n",
    "    \n",
    "    def parse_content(self,content):\n",
    "        soup = BeautifulSoup(content,'lxml')\n",
    "        div = soup.select('')\n",
    "       \n",
    "    \n",
    "    def run(self):\n",
    "        for page in range (self.start_page,self.end_page+1):\n",
    "            request = self.handle_request(page)\n",
    "            content = urllib.request.urlopen(request).read().decode()\n",
    "            #print(content)\n",
    "            parse_content = self.parse_content(content)\n",
    "\n",
    "def main():\n",
    "    jl = input('请输入工作地点: ')\n",
    "    kw = input('请输入工作关键字： ')\n",
    "    start_page=int(input('请输入起始页码： '))\n",
    "    end_page=int(input('请输入结束页码： '))\n",
    "    #创建对象 启动爬取\n",
    "    spider = ZhiLianSpider(jl,kw,start_page,end_page)\n",
    "    spider.run()\n",
    "    \n",
    "if __name__ == '__main__':\n",
    "    main()"
   ]
  },
  {
   "cell_type": "code",
   "execution_count": 7,
   "metadata": {},
   "outputs": [
    {
     "name": "stdout",
     "output_type": "stream",
     "text": [
      "请输入起始页码： 1\n",
      "请输入结束页码: 1\n",
      "40\n"
     ]
    }
   ],
   "source": [
    "#懒加载图片\n",
    "import urllib.request\n",
    "import urllib.parse\n",
    "from lxml import etree\n",
    "import time\n",
    "import os\n",
    "\n",
    "def handle_request(url,page):\n",
    "    if page == 1:\n",
    "        url = url.format('')\n",
    "    else:\n",
    "        url = url.format('_'+str(page))\n",
    "    \n",
    "    headers = {\n",
    "            'User-Agent': 'Mozilla/5.0 (Macintosh; Intel Mac OS X 10_13_3)AppleWebKit/537.36 (KHTML, like Gecko)Chrome/70.0.3538.102 Safari/537.36',\n",
    "        }\n",
    "    request = urllib.request.Request(url=url,headers=headers)\n",
    "    return request\n",
    "\n",
    "def parse_content(content):\n",
    "    tree = etree.HTML(content)\n",
    "    img_list = tree.xpath('//div[@id=\"container\"]/div/div/a/img/@src2')\n",
    "    #print(len(img_list))\n",
    "    for img_src in img_list:\n",
    "        download_img(image_src)\n",
    "        \n",
    "def download_img(iamge_src):\n",
    "    dirpath = 'meizi'\n",
    "    if not os.path.exist(dirpath):\n",
    "        os.mkdir(dirpath)\n",
    "    filename = os.path.basename(image_src)\n",
    "    filepath = os.paht.join(dirpath+filepath)\n",
    "    headers = {\n",
    "        'User-Agent': 'Mozilla/5.0 (Macintosh; Intel Mac OS X 10_13_3)AppleWebKit/537.36 (KHTML, like Gecko)Chrome/70.0.3538.102 Safari/537.36',\n",
    "    }\n",
    "    request = urllib.request.Request(url=url_now,headers=headers)\n",
    "    response = urllib.request.urlopen(request)\n",
    "    with open(filepaht,'wb') as fp:\n",
    "        fp.write(response.read())\n",
    "    \n",
    "def main():\n",
    "    url = 'http://sc.chinaz.com/tupian/xingganmeinvtupian{}.html'\n",
    "    start_page = int(input('请输入起始页码： '))\n",
    "    end_page = int(input('请输入结束页码: '))\n",
    "    for page in range(start_page, end_page+1):\n",
    "        request = handle_request(url,page)\n",
    "        content = urllib.request.urlopen(request).read().decode()\n",
    "        parse_content(content)\n",
    "        time.sleep(2)\n",
    "\n",
    "        \n",
    "if __name__=='__main__':\n",
    "    main()"
   ]
  },
  {
   "cell_type": "code",
   "execution_count": 6,
   "metadata": {},
   "outputs": [
    {
     "name": "stdout",
     "output_type": "stream",
     "text": [
      "<class 'list'>\n",
      "[{'name': 'abc', 'age': 12}, {'name': 'bbc', 'age': 13}, {'name': 'ccc', 'age': 14}, {'name': 'ddc', 'age': 15}]\n"
     ]
    }
   ],
   "source": [
    "import json\n",
    "lt =[\n",
    "    {'name':'abc', 'age':12},\n",
    "    {'name':'bbc', 'age':13},\n",
    "    {'name':'ccc', 'age':14},\n",
    "    {'name':'ddc', 'age':15},\n",
    "]\n",
    "\n",
    "#将字典或者列表转化成json格式\n",
    "# string = json.dumps(lt)\n",
    "# print(string)\n",
    "\n",
    "#将json格式字符串转化为python对象\n",
    "# obj = json.loads(string)\n",
    "\n",
    "#将字典或者列表转化成json格式并写入文件中\n",
    "#json.dump(lt,open('json.txt','w',encoding = 'utf8'))\n",
    "\n",
    "#从文件中读取json格式字符串，转化为python对象\n",
    "obj = json.load(open('json.txt','r',encoding = 'utf8'))\n",
    "\n",
    "print(type(obj))\n",
    "print(obj)"
   ]
  },
  {
   "cell_type": "code",
   "execution_count": 26,
   "metadata": {},
   "outputs": [
    {
     "name": "stdout",
     "output_type": "stream",
     "text": [
      "['abc', 'bbc', 'ccc', 'ddc']\n"
     ]
    }
   ],
   "source": [
    "import jsonpath\n",
    "import json\n",
    "\n",
    "obj = json.load(open('json.txt','r',encoding = 'utf8'))\n",
    "#查找\n",
    "ret = jsonpath.jsonpath(obj,'$..name')\n",
    "print(ret)\n"
   ]
  },
  {
   "cell_type": "code",
   "execution_count": 13,
   "metadata": {},
   "outputs": [
    {
     "name": "stdout",
     "output_type": "stream",
     "text": [
      "Looking in indexes: https://mirrors.aliyun.com/pypi/simple\n",
      "Collecting jsonpath\n",
      "  Using cached https://mirrors.aliyun.com/pypi/packages/d3/16/4afff774d28aecee74405fd9281cacabf16b2d517a780d00717400d76fa4/jsonpath-0.80.tar.gz\n",
      "Building wheels for collected packages: jsonpath\n",
      "  Running setup.py bdist_wheel for jsonpath ... \u001b[?25ldone\n",
      "\u001b[?25h  Stored in directory: /Users/fengjun/Library/Caches/pip/wheels/a1/31/b2/976a64b9bb2ae6dcb163abe9b99fcdb5dcf36b769de338128a\n",
      "Successfully built jsonpath\n",
      "Installing collected packages: jsonpath\n",
      "Successfully installed jsonpath-0.80\n",
      "\u001b[33mYou are using pip version 18.1, however version 19.0.2 is available.\n",
      "You should consider upgrading via the 'pip install --upgrade pip' command.\u001b[0m\n"
     ]
    }
   ],
   "source": []
  },
  {
   "cell_type": "code",
   "execution_count": null,
   "metadata": {},
   "outputs": [],
   "source": []
  }
 ],
 "metadata": {
  "kernelspec": {
   "display_name": "Python 3",
   "language": "python",
   "name": "python3"
  },
  "language_info": {
   "codemirror_mode": {
    "name": "ipython",
    "version": 3
   },
   "file_extension": ".py",
   "mimetype": "text/x-python",
   "name": "python",
   "nbconvert_exporter": "python",
   "pygments_lexer": "ipython3",
   "version": "3.6.4"
  }
 },
 "nbformat": 4,
 "nbformat_minor": 2
}
